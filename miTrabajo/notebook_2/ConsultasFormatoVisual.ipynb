{
 "cells": [
  {
   "cell_type": "markdown",
   "metadata": {},
   "source": [
    "## Formato visual de las consultas, para su ejecución revisar el archivo : consultas.sql"
   ]
  },
  {
   "cell_type": "markdown",
   "metadata": {},
   "source": [
    "## Ejercicio 3"
   ]
  },
  {
   "cell_type": "markdown",
   "metadata": {},
   "source": [
    "1) A partir de la tabla \"film\", mostrar solamente cuáles son los títulos de pelicula disponibles."
   ]
  },
  {
   "cell_type": "markdown",
   "metadata": {},
   "source": [
    "```mysql\n",
    "SELECT title FROM film;\n",
    "```\n"
   ]
  },
  {
   "cell_type": "markdown",
   "metadata": {},
   "source": [
    "<b>2)</b> A partir de la tabla \"film\", mostrar de qué años son las peliculas disponibles. NB: utilizar la instrucción DISTINCT"
   ]
  },
  {
   "cell_type": "markdown",
   "metadata": {},
   "source": [
    "```mysql\n",
    "SELECT DISTINCT release_year FROM film;\n",
    "```"
   ]
  },
  {
   "cell_type": "markdown",
   "metadata": {},
   "source": [
    "3) Mostrar los títulos de pelicula en la tabla \"film\" que se puede arrendar por más de 4 días (rental_duration)"
   ]
  },
  {
   "cell_type": "markdown",
   "metadata": {},
   "source": [
    "```mysql\n",
    "SELECT title FROM film WHERE rental_duration > 4;\n",
    "```"
   ]
  },
  {
   "cell_type": "markdown",
   "metadata": {},
   "source": [
    "4) En la tabla \"payment\", mostrar el customer_id, rental_id, amount y payment_date de todos los arriendos realizados entre las fechas 2005-07-01 y 2005-08-01"
   ]
  },
  {
   "cell_type": "markdown",
   "metadata": {},
   "source": [
    "```mysql\n",
    "SELECT customer_id,rental_id,amount, payment_date\n",
    "FROM payment WHERE payment_date BETWEEN '2005-07-01' AND '2005-08-01';\n",
    "```"
   ]
  },
  {
   "cell_type": "markdown",
   "metadata": {},
   "source": [
    "## Ejercicio 4"
   ]
  },
  {
   "cell_type": "markdown",
   "metadata": {},
   "source": [
    "1) Contar el número de clientes en la tabla \"CUSTOMER\"\n"
   ]
  },
  {
   "cell_type": "markdown",
   "metadata": {},
   "source": [
    "```mysql\n",
    "SELECT COUNT(customer_id) FROM customer;\n",
    "```"
   ]
  },
  {
   "cell_type": "markdown",
   "metadata": {},
   "source": [
    "\n",
    "2) En la tabla \"RENTAL\", contar cuánto arriendos se realizó por cada cliente (NB: utilizar la instucción <code>GROUP BY</code> y <code>COUNT</code>)"
   ]
  },
  {
   "cell_type": "markdown",
   "metadata": {},
   "source": [
    "```mysql\n",
    "SELECT COUNT(*) FROM rental GROUP BY customer_id;\n",
    "```"
   ]
  },
  {
   "cell_type": "markdown",
   "metadata": {},
   "source": [
    "\n",
    "\n",
    "3) ¿Qué devuelve la consulta SQL siguiente?\n",
    "\n",
    "<code>SELECT MAX(total) FROM (SELECT customer_id,count(*) as total FROM rental GROUP BY customer_id) as t1;</code>\n"
   ]
  },
  {
   "cell_type": "markdown",
   "metadata": {},
   "source": [
    "```mysql\n",
    "    Muestra el usuario que más veces ha arrendado en el local/negocio.\n",
    "\n",
    "```"
   ]
  },
  {
   "cell_type": "markdown",
   "metadata": {},
   "source": [
    "\n",
    "4) ¿Qué es un sub-consulta?"
   ]
  },
  {
   "cell_type": "markdown",
   "metadata": {},
   "source": [
    "```mysql\n",
    "    Corresponde a consulta realizada previamente (dentro) a una consulta mayor, permite una optimización de cómputo ya que sólo se trabajará sobre las columnas consultadas.\n",
    "```"
   ]
  },
  {
   "cell_type": "markdown",
   "metadata": {},
   "source": [
    "\n",
    "\n",
    "5) En la tabla \"payment\", mostrar el volumen de negocio realizado por cada miembro del staff (staff_id) en total.\n"
   ]
  },
  {
   "cell_type": "markdown",
   "metadata": {},
   "source": [
    "```mysql\n",
    "SELECT staff_id,COUNT(*) FROM payment GROUP BY(staff_id); \n",
    "```"
   ]
  },
  {
   "cell_type": "markdown",
   "metadata": {},
   "source": [
    "\n",
    "6) En una consulta, mostrar el staff_id que ha realizado más volumen de negocio el dia 2005-08-23."
   ]
  },
  {
   "cell_type": "markdown",
   "metadata": {},
   "source": [
    "```mysql\n",
    "SELECT staff.first_name,staff.last_name, count(*) AS amount \n",
    "FROM payment INNER JOIN staff on  payment.staff_id=staff.staff_id where payment_date\n",
    "BETWEEN '2005-08-23' AND '2005-08-24'\n",
    "GROUP BY payment.staff_id ORDER BY amount desc limit 1;\n",
    "```"
   ]
  },
  {
   "cell_type": "markdown",
   "metadata": {},
   "source": [
    "## Ejercicio 5"
   ]
  },
  {
   "cell_type": "markdown",
   "metadata": {},
   "source": [
    "1) En las peliculas \"Film\" y \"Language\", mostrar el título de la pelicula y el nombre de su idioma. (NB: utilizar una operación de INNER JOIN)"
   ]
  },
  {
   "cell_type": "markdown",
   "metadata": {},
   "source": [
    "```mysql\n",
    "SELECT film.title,language.name FROM film INNER JOIN language ON film.language_id=language.language_id;\n",
    "\n",
    "```"
   ]
  },
  {
   "cell_type": "markdown",
   "metadata": {},
   "source": [
    "\n",
    "\n",
    "2) Mostrar los nombres y apellidos de los clientes que han arrendado la pelicula \"CHICAGO NORTH\"\n"
   ]
  },
  {
   "cell_type": "markdown",
   "metadata": {},
   "source": [
    "```mysql\n",
    "SELECT customer.first_name, customer.last_name FROM film INNER JOIN inventory ON film.film_id=inventory.film_id \n",
    "INNER JOIN rental ON inventory.inventory_id=rental.inventory_id\n",
    "INNER JOIN customer ON customer.customer_id = rental.customer_id\n",
    "WHERE film.title='CHICAGO NORTH';\n",
    "```"
   ]
  },
  {
   "cell_type": "markdown",
   "metadata": {},
   "source": [
    "\n",
    "3) Mostrar por cada nombres y apellidos de cliente, en qué ciudad viven (tabla Customer y City)\n"
   ]
  },
  {
   "cell_type": "markdown",
   "metadata": {},
   "source": [
    "```mysql\n",
    "SELECT first_name,last_name, city FROM customer INNER JOIN address ON customer.address_id=address.address_id\n",
    "INNER JOIN city ON city.city_id=address.city_id;\n",
    "\n",
    "```"
   ]
  },
  {
   "cell_type": "markdown",
   "metadata": {},
   "source": [
    "\n",
    "4) Mostrar cuántas veces fueron arrendadas las peliculas (mostrando el título de la pelicula)\n"
   ]
  },
  {
   "cell_type": "markdown",
   "metadata": {},
   "source": [
    "```mysql\n",
    "SELECT title, count(*) FROM rental INNER JOIN inventory ON rental.inventory_id=inventory.inventory_id\n",
    "INNER JOIN film ON film.film_id=inventory.film_id group by film.film_id;\n",
    "```"
   ]
  },
  {
   "cell_type": "markdown",
   "metadata": {},
   "source": [
    "\n",
    "5) Mostrar qué pelicula generó más volumen de negocio\n"
   ]
  },
  {
   "cell_type": "markdown",
   "metadata": {},
   "source": [
    "```mysql\n",
    "SELECT film.title,count(*) AS total FROM rental INNER JOIN inventory ON rental.inventory_id=inventory.inventory_id \n",
    "INNER JOIN film ON inventory.film_id=film.film_id GROUP BY film.film_id ORDER BY total DESC LIMIT 1 ;\n",
    "```"
   ]
  },
  {
   "cell_type": "markdown",
   "metadata": {},
   "source": [
    "\n",
    "6) Mostrar los clientes que arrendaron peliculas por un valor mayor a 10 unidad dólares"
   ]
  },
  {
   "cell_type": "markdown",
   "metadata": {},
   "source": [
    "```mysql\n",
    "SELECT first_name,last_name FROM rental INNER JOIN payment ON rental.rental_id=payment.payment_id \n",
    "INNER JOIN customer ON customer.customer_id=payment.customer_id WHERE payment.amount>10.00 ;\n",
    "```"
   ]
  }
 ],
 "metadata": {
  "kernelspec": {
   "display_name": "Python 3",
   "language": "python",
   "name": "python3"
  },
  "language_info": {
   "codemirror_mode": {
    "name": "ipython",
    "version": 3
   },
   "file_extension": ".py",
   "mimetype": "text/x-python",
   "name": "python",
   "nbconvert_exporter": "python",
   "pygments_lexer": "ipython3",
   "version": "3.7.0"
  }
 },
 "nbformat": 4,
 "nbformat_minor": 2
}
