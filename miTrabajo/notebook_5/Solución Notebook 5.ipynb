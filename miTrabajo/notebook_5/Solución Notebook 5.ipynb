{
 "cells": [
  {
   "cell_type": "code",
   "execution_count": 3,
   "metadata": {},
   "outputs": [],
   "source": [
    "# importar la librería Requests que sirve para enviar consultas HTTP\n",
    "import requests \n",
    "  \n",
    "# api-endpoint \n",
    "endpoint = \"https://api.openaq.org/v1/locations\"\n",
    "parameters = \"?country=CL&limit=1000\"\n",
    "URL = endpoint+parameters\n",
    "\n",
    "r = requests.get(url = URL) \n",
    "  \n",
    "# extracting data in json format \n",
    "data = r.json() \n",
    "  \n",
    "#print(data)"
   ]
  },
  {
   "cell_type": "code",
   "execution_count": 5,
   "metadata": {},
   "outputs": [
    {
     "data": {
      "text/html": [
       "<div>\n",
       "<style scoped>\n",
       "    .dataframe tbody tr th:only-of-type {\n",
       "        vertical-align: middle;\n",
       "    }\n",
       "\n",
       "    .dataframe tbody tr th {\n",
       "        vertical-align: top;\n",
       "    }\n",
       "\n",
       "    .dataframe thead th {\n",
       "        text-align: right;\n",
       "    }\n",
       "</style>\n",
       "<table border=\"1\" class=\"dataframe\">\n",
       "  <thead>\n",
       "    <tr style=\"text-align: right;\">\n",
       "      <th></th>\n",
       "      <th>city</th>\n",
       "      <th>coordinates</th>\n",
       "      <th>count</th>\n",
       "      <th>country</th>\n",
       "      <th>firstUpdated</th>\n",
       "      <th>lastUpdated</th>\n",
       "      <th>location</th>\n",
       "      <th>parameters</th>\n",
       "      <th>sourceName</th>\n",
       "      <th>sourceNames</th>\n",
       "    </tr>\n",
       "  </thead>\n",
       "  <tbody>\n",
       "    <tr>\n",
       "      <th>0</th>\n",
       "      <td>Huasco</td>\n",
       "      <td>{'latitude': -28.467794, 'longitude': -71.227295}</td>\n",
       "      <td>236</td>\n",
       "      <td>CL</td>\n",
       "      <td>2018-08-31T13:00:00.000Z</td>\n",
       "      <td>2018-10-31T12:00:00.000Z</td>\n",
       "      <td>21 de Mayo</td>\n",
       "      <td>[pm10, pm25]</td>\n",
       "      <td>Chile - SINCA</td>\n",
       "      <td>[Chile - SINCA]</td>\n",
       "    </tr>\n",
       "    <tr>\n",
       "      <th>1</th>\n",
       "      <td>21 de mayo</td>\n",
       "      <td>{'latitude': -37.471184, 'longitude': -72.361465}</td>\n",
       "      <td>47716</td>\n",
       "      <td>CL</td>\n",
       "      <td>2015-09-23T14:00:00.000Z</td>\n",
       "      <td>2018-11-07T13:00:00.000Z</td>\n",
       "      <td>21 de mayo</td>\n",
       "      <td>[pm10, pm25]</td>\n",
       "      <td>Chile - SINCA</td>\n",
       "      <td>[Chile - SINCA]</td>\n",
       "    </tr>\n",
       "    <tr>\n",
       "      <th>2</th>\n",
       "      <td>Puerto Montt</td>\n",
       "      <td>{'latitude': -41.39917, 'longitude': -72.89952}</td>\n",
       "      <td>10311</td>\n",
       "      <td>CL</td>\n",
       "      <td>2017-03-27T23:00:00.000Z</td>\n",
       "      <td>2018-11-07T12:00:00.000Z</td>\n",
       "      <td>Alerce</td>\n",
       "      <td>[pm25]</td>\n",
       "      <td>Chile - SINCA</td>\n",
       "      <td>[Chile - SINCA]</td>\n",
       "    </tr>\n",
       "    <tr>\n",
       "      <th>3</th>\n",
       "      <td>Alto Hospicio</td>\n",
       "      <td>{'latitude': -20.290466, 'longitude': -70.10019}</td>\n",
       "      <td>18590</td>\n",
       "      <td>CL</td>\n",
       "      <td>2016-02-22T18:00:00.000Z</td>\n",
       "      <td>2018-11-07T12:00:00.000Z</td>\n",
       "      <td>Alto Hospicio</td>\n",
       "      <td>[pm25]</td>\n",
       "      <td>Chile - SINCA</td>\n",
       "      <td>[Chile - SINCA]</td>\n",
       "    </tr>\n",
       "    <tr>\n",
       "      <th>4</th>\n",
       "      <td>Andacollo</td>\n",
       "      <td>{'latitude': -30.227768, 'longitude': -71.08613}</td>\n",
       "      <td>22501</td>\n",
       "      <td>CL</td>\n",
       "      <td>2015-09-23T13:00:00.000Z</td>\n",
       "      <td>2018-11-07T13:00:00.000Z</td>\n",
       "      <td>Andacollo</td>\n",
       "      <td>[pm10]</td>\n",
       "      <td>Chile - SINCA</td>\n",
       "      <td>[Chile - SINCA]</td>\n",
       "    </tr>\n",
       "  </tbody>\n",
       "</table>\n",
       "</div>"
      ],
      "text/plain": [
       "            city                                        coordinates  count  \\\n",
       "0         Huasco  {'latitude': -28.467794, 'longitude': -71.227295}    236   \n",
       "1     21 de mayo  {'latitude': -37.471184, 'longitude': -72.361465}  47716   \n",
       "2   Puerto Montt    {'latitude': -41.39917, 'longitude': -72.89952}  10311   \n",
       "3  Alto Hospicio   {'latitude': -20.290466, 'longitude': -70.10019}  18590   \n",
       "4      Andacollo   {'latitude': -30.227768, 'longitude': -71.08613}  22501   \n",
       "\n",
       "  country              firstUpdated               lastUpdated       location  \\\n",
       "0      CL  2018-08-31T13:00:00.000Z  2018-10-31T12:00:00.000Z     21 de Mayo   \n",
       "1      CL  2015-09-23T14:00:00.000Z  2018-11-07T13:00:00.000Z     21 de mayo   \n",
       "2      CL  2017-03-27T23:00:00.000Z  2018-11-07T12:00:00.000Z         Alerce   \n",
       "3      CL  2016-02-22T18:00:00.000Z  2018-11-07T12:00:00.000Z  Alto Hospicio   \n",
       "4      CL  2015-09-23T13:00:00.000Z  2018-11-07T13:00:00.000Z      Andacollo   \n",
       "\n",
       "     parameters     sourceName      sourceNames  \n",
       "0  [pm10, pm25]  Chile - SINCA  [Chile - SINCA]  \n",
       "1  [pm10, pm25]  Chile - SINCA  [Chile - SINCA]  \n",
       "2        [pm25]  Chile - SINCA  [Chile - SINCA]  \n",
       "3        [pm25]  Chile - SINCA  [Chile - SINCA]  \n",
       "4        [pm10]  Chile - SINCA  [Chile - SINCA]  "
      ]
     },
     "execution_count": 5,
     "metadata": {},
     "output_type": "execute_result"
    }
   ],
   "source": [
    "import pandas as pd\n",
    "\n",
    "data_Norm = pd.DataFrame(data['results'])\n",
    "#Mostramos los 10 primeros resultados\n",
    "data_selected=data_Norm\n",
    "data_selected.head(5)"
   ]
  },
  {
   "cell_type": "code",
   "execution_count": 7,
   "metadata": {},
   "outputs": [
    {
     "data": {
      "text/html": [
       "<div>\n",
       "<style scoped>\n",
       "    .dataframe tbody tr th:only-of-type {\n",
       "        vertical-align: middle;\n",
       "    }\n",
       "\n",
       "    .dataframe tbody tr th {\n",
       "        vertical-align: top;\n",
       "    }\n",
       "\n",
       "    .dataframe thead th {\n",
       "        text-align: right;\n",
       "    }\n",
       "</style>\n",
       "<table border=\"1\" class=\"dataframe\">\n",
       "  <thead>\n",
       "    <tr style=\"text-align: right;\">\n",
       "      <th></th>\n",
       "      <th>location</th>\n",
       "    </tr>\n",
       "  </thead>\n",
       "  <tbody>\n",
       "    <tr>\n",
       "      <th>0</th>\n",
       "      <td>21 de Mayo</td>\n",
       "    </tr>\n",
       "    <tr>\n",
       "      <th>1</th>\n",
       "      <td>21 de mayo</td>\n",
       "    </tr>\n",
       "    <tr>\n",
       "      <th>2</th>\n",
       "      <td>Alerce</td>\n",
       "    </tr>\n",
       "    <tr>\n",
       "      <th>3</th>\n",
       "      <td>Alto Hospicio</td>\n",
       "    </tr>\n",
       "    <tr>\n",
       "      <th>4</th>\n",
       "      <td>Andacollo</td>\n",
       "    </tr>\n",
       "  </tbody>\n",
       "</table>\n",
       "</div>"
      ],
      "text/plain": [
       "        location\n",
       "0     21 de Mayo\n",
       "1     21 de mayo\n",
       "2         Alerce\n",
       "3  Alto Hospicio\n",
       "4      Andacollo"
      ]
     },
     "execution_count": 7,
     "metadata": {},
     "output_type": "execute_result"
    }
   ],
   "source": [
    "datas=data_selected[[\"location\"]]\n",
    "datas.head()"
   ]
  },
  {
   "cell_type": "code",
   "execution_count": 8,
   "metadata": {},
   "outputs": [
    {
     "data": {
      "text/plain": [
       "<BarContainer object of 127 artists>"
      ]
     },
     "execution_count": 8,
     "metadata": {},
     "output_type": "execute_result"
    },
    {
     "data": {
      "image/png": "[encoded data removed]",
      "text/plain": [
       "<Figure size 1080x432 with 1 Axes>"
      ]
     },
     "metadata": {
      "needs_background": "light"
     },
     "output_type": "display_data"
    }
   ],
   "source": [
    "import matplotlib.pyplot as plt\n",
    "\n",
    "#Definición del tamaño de la figura\n",
    "plt.figure(figsize=(15,6))\n",
    "data_selected=data_selected.sort_values([\"count\"])\n",
    "#Definición de los datos que sirven de eje X e Y\n",
    "x_co = data_selected[\"location\"]\n",
    "y_co = data_selected[\"count\"]\n",
    "\n",
    "#Leyenda\n",
    "plt.xlabel('Ubicaciones')\n",
    "plt.ylabel('Cantidad de mediciones')\n",
    "plt.title('Total de mediciones por ubicación')\n",
    "plt.xticks(rotation=90)\n",
    "\n",
    "#Dibujar la visualización\n",
    "plt.bar(x_co,y_co)"
   ]
  },
  {
   "cell_type": "markdown",
   "metadata": {},
   "source": [
    "# Pregunta 2"
   ]
  },
  {
   "cell_type": "code",
   "execution_count": 79,
   "metadata": {},
   "outputs": [],
   "source": [
    "import pymongo\n",
    "from pymongo import MongoClient\n",
    "\n",
    "#Nos conectamos a la instancia de Mongo local, puerto 27017\n",
    "client = MongoClient('localhost', 27017)\n",
    "\n",
    "#Nos conectamos a la BD 'notebook5_db'\n",
    "db = client['notebook5_db']\n",
    "\n",
    "#Dentro de la BD, creamos una nueva colección llamada 'pos'\n",
    "collection = db['pos']"
   ]
  },
  {
   "cell_type": "code",
   "execution_count": 97,
   "metadata": {},
   "outputs": [
    {
     "data": {
      "text/plain": [
       "{'ns': 'notebook5_db.pos', 'nIndexesWas': 1, 'ok': 1.0}"
      ]
     },
     "execution_count": 97,
     "metadata": {},
     "output_type": "execute_result"
    }
   ],
   "source": [
    "#Para Eliminar colecciones\n",
    "db.drop_collection('pos')"
   ]
  },
  {
   "cell_type": "code",
   "execution_count": 98,
   "metadata": {},
   "outputs": [
    {
     "data": {
      "text/plain": [
       "<pymongo.results.InsertManyResult at 0x7fe9240e6548>"
      ]
     },
     "execution_count": 98,
     "metadata": {},
     "output_type": "execute_result"
    }
   ],
   "source": [
    "doc={\"nombre\":\"Jorge\",\n",
    "     \"carrera\":\"Informática\",\n",
    "     \"Cursando\":\"Cuarto año\",\n",
    "     \"Asignaturas\":[\"INFO261\", \"INFO267\", \"INFO268\", \"INFO331\"]}\n",
    "collection.insert_one(doc)\n",
    "doc=[{\"nombre\":\"andrés\",\n",
    "     \"carrera\":\"Informática\",\n",
    "     \"Cursando\":\"Tercer año\",\n",
    "     \"Asignaturas\":[\"INFO261\", \"INFO331\"]},\n",
    "    {\"nombre\":\"Enrique\",\n",
    "     \"carrera\":\"Acústica\",\n",
    "     \"Cursando\":\"Primer año\",\n",
    "     \"Asignaturas\":[\"BAIN016\", \"BAIN026\"]},\n",
    "    {\"nombre\":\"Patricia\",\n",
    "     \"carrera\":\"Electrónica\",\n",
    "     \"Cursando\":\"Primer año\",\n",
    "     \"Asignaturas\":[\"BAIN032\", \"BAIN022\"]}]\n",
    "collection.insert_many(doc)\n",
    "#Tres documentos añadidos"
   ]
  },
  {
   "cell_type": "code",
   "execution_count": 103,
   "metadata": {},
   "outputs": [
    {
     "name": "stdout",
     "output_type": "stream",
     "text": [
      "{'Asignaturas': ['BAIN016', 'BAIN026'],\n",
      " 'Cursando': 'Primer año',\n",
      " '_id': ObjectId('5be2ca8620d8e70594c66333'),\n",
      " 'carrera': 'Acústica',\n",
      " 'nombre': 'Enrique'}\n",
      "{'Asignaturas': ['BAIN032', 'BAIN022'],\n",
      " 'Cursando': 'Primer año',\n",
      " '_id': ObjectId('5be2ca8620d8e70594c66334'),\n",
      " 'carrera': 'Electrónica',\n",
      " 'nombre': 'Patricia'}\n"
     ]
    }
   ],
   "source": [
    "from pprint import pprint\n",
    "\n",
    "for doc in collection.find():\n",
    "    pprint(doc)"
   ]
  },
  {
   "cell_type": "code",
   "execution_count": 100,
   "metadata": {},
   "outputs": [
    {
     "name": "stdout",
     "output_type": "stream",
     "text": [
      "{'Asignaturas': ['INFO261', 'INFO267', 'INFO268', 'INFO331'],\n",
      " 'Cursando': 'Segundo año',\n",
      " '_id': ObjectId('5be2ca8620d8e70594c66331'),\n",
      " 'carrera': 'Informática',\n",
      " 'nombre': 'Jorge'}\n"
     ]
    }
   ],
   "source": [
    "#Editar el año un doc con nombre:'Jorge'\n",
    "query={'nombre':'Jorge'}\n",
    "collection.update_one(query, {\"$set\":{\"Cursando\":\"Segundo año\"}})\n",
    "pprint(collection.find_one(query))"
   ]
  },
  {
   "cell_type": "code",
   "execution_count": 101,
   "metadata": {},
   "outputs": [
    {
     "name": "stdout",
     "output_type": "stream",
     "text": [
      "{'Asignaturas': ['BAIN016', 'BAIN026'],\n",
      " 'Cursando': 'Primer año',\n",
      " '_id': ObjectId('5be2ca8620d8e70594c66333'),\n",
      " 'carrera': 'Acústica',\n",
      " 'nombre': 'Enrique'}\n",
      "{'Asignaturas': ['BAIN032', 'BAIN022'],\n",
      " 'Cursando': 'Primer año',\n",
      " '_id': ObjectId('5be2ca8620d8e70594c66334'),\n",
      " 'carrera': 'Electrónica',\n",
      " 'nombre': 'Patricia'}\n"
     ]
    }
   ],
   "source": [
    "#Eliminar Documentos que cumplan con la query\n",
    "query={'carrera':'Informática'}\n",
    "collection.delete_many(query)\n",
    "#Imprime lo que queda\n",
    "for doc in collection.find():\n",
    "    pprint(doc)"
   ]
  },
  {
   "cell_type": "code",
   "execution_count": 107,
   "metadata": {},
   "outputs": [
    {
     "name": "stdout",
     "output_type": "stream",
     "text": [
      "{'Asignaturas': ['BAIN016', 'BAIN026'],\n",
      " 'Cursando': 'Primer año',\n",
      " '_id': ObjectId('5be2ca8620d8e70594c66333'),\n",
      " 'carrera': 'Acústica',\n",
      " 'nombre': 'Enrique'}\n",
      "{'Asignaturas': ['BAIN032', 'BAIN022'],\n",
      " 'Cursando': 'Primer año',\n",
      " '_id': ObjectId('5be2ca8620d8e70594c66334'),\n",
      " 'carrera': 'Electrónica',\n",
      " 'nombre': 'Patricia'}\n",
      "------------------------------------\n",
      "{'Asignaturas': ['BAIN032', 'BAIN022'],\n",
      " 'Cursando': 'Primer año',\n",
      " '_id': ObjectId('5be2ca8620d8e70594c66334'),\n",
      " 'carrera': 'Electrónica',\n",
      " 'nombre': 'Patricia'}\n"
     ]
    }
   ],
   "source": [
    "#Consultas básicas\n",
    "query={'Cursando':'Primer año'}\n",
    "docs = collection.find(query)\n",
    "for doc in docs:\n",
    "    pprint(doc)\n",
    "print(\"------------------------------------\")\n",
    "query={'nombre':'Patricia'}\n",
    "docs = collection.find(query)\n",
    "for doc in docs:\n",
    "    pprint(doc)"
   ]
  }
 ],
 "metadata": {
  "kernelspec": {
   "display_name": "Python 3",
   "language": "python",
   "name": "python3"
  },
  "language_info": {
   "codemirror_mode": {
    "name": "ipython",
    "version": 3
   },
   "file_extension": ".py",
   "mimetype": "text/x-python",
   "name": "python",
   "nbconvert_exporter": "python",
   "pygments_lexer": "ipython3",
   "version": "3.7.0"
  }
 },
 "nbformat": 4,
 "nbformat_minor": 2
}
